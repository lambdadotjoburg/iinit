{
 "cells": [
  {
   "cell_type": "code",
   "execution_count": null,
   "id": "345ba204-56cb-417e-b40a-b79506f37865",
   "metadata": {},
   "outputs": [],
   "source": []
  },
  {
   "cell_type": "markdown",
   "id": "9c607fe2-839a-4b95-ab86-27a0e5c26c59",
   "metadata": {},
   "source": [
    "This is an iinit test notebook file - cells having metadata \"iinit\": true will be executed at kernel startup"
   ]
  },
  {
   "cell_type": "code",
   "execution_count": null,
   "id": "5aa3ca9c-4f6c-48f3-8645-4943ec10fa0d",
   "metadata": {},
   "outputs": [],
   "source": []
  },
  {
   "cell_type": "code",
   "execution_count": 14,
   "id": "e332186b-512f-4e3d-9ec2-f8bf5f6e43a0",
   "metadata": {
    "iinit": true
   },
   "outputs": [
    {
     "name": "stdout",
     "output_type": "stream",
     "text": [
      "This is in an iinit cell - check metadata\n"
     ]
    }
   ],
   "source": [
    "print(\"This is in an iinit cell - check metadata\")"
   ]
  },
  {
   "cell_type": "code",
   "execution_count": null,
   "id": "bc01b5fd-b29c-4752-8976-8e65b8526dc3",
   "metadata": {},
   "outputs": [],
   "source": []
  },
  {
   "cell_type": "code",
   "execution_count": 15,
   "id": "f66f76c2-0fc2-4e2f-905e-d15ad39b9020",
   "metadata": {},
   "outputs": [
    {
     "name": "stdout",
     "output_type": "stream",
     "text": [
      "This is in not an iinit cell - check metadata\n"
     ]
    }
   ],
   "source": [
    "print(\"This is in not an iinit cell - check metadata\")"
   ]
  },
  {
   "cell_type": "code",
   "execution_count": null,
   "id": "f0c0c379-47d2-463c-9820-a98b24242a29",
   "metadata": {},
   "outputs": [],
   "source": []
  },
  {
   "cell_type": "code",
   "execution_count": 16,
   "id": "089d3655-458c-4936-a6b1-f8e05472b879",
   "metadata": {
    "iinit": true,
    "scrolled": true
   },
   "outputs": [
    {
     "name": "stdout",
     "output_type": "stream",
     "text": [
      "This is in an iinit cell - check metadata\n"
     ]
    }
   ],
   "source": [
    "print(\"This is in an iinit cell - check metadata\")"
   ]
  },
  {
   "cell_type": "code",
   "execution_count": null,
   "id": "872163cf-14da-4d94-8aa2-1aa3abb81696",
   "metadata": {},
   "outputs": [],
   "source": []
  },
  {
   "cell_type": "markdown",
   "id": "8904fd6e-65e5-4bb5-8840-93268778d711",
   "metadata": {},
   "source": [
    "In case you want to hide either the entire cell body, the cell input or the cell output upon execution, you could use the ihide jupyterlab extension, and set the metadata to \"ihide_cell\": true, \"ihide_source\": true, or \"ihide_output\": true, respectively ..."
   ]
  },
  {
   "cell_type": "code",
   "execution_count": null,
   "id": "709bd5f7-3aa7-4cb8-a94d-94e7052408cf",
   "metadata": {},
   "outputs": [],
   "source": []
  },
  {
   "cell_type": "code",
   "execution_count": 17,
   "id": "effc20f7-239c-4704-a5d9-f79166eef78d",
   "metadata": {
    "editable": true,
    "ihide_cell": true,
    "iinit": true,
    "slideshow": {
     "slide_type": ""
    },
    "tags": []
   },
   "outputs": [
    {
     "name": "stdout",
     "output_type": "stream",
     "text": [
      "This is in an iinit & ihide_cell - check metadata\n"
     ]
    }
   ],
   "source": [
    "print(\"This is in an iinit & ihide_cell - check metadata\")"
   ]
  },
  {
   "cell_type": "code",
   "execution_count": null,
   "id": "69bee6bb-aaca-48e8-bb43-d1d925de9d88",
   "metadata": {},
   "outputs": [],
   "source": []
  },
  {
   "cell_type": "code",
   "execution_count": 18,
   "id": "74ed09b8-76d4-4b0b-8816-ed845888dcfa",
   "metadata": {
    "ihide_source": true,
    "iinit": true
   },
   "outputs": [
    {
     "name": "stdout",
     "output_type": "stream",
     "text": [
      "This is in an iinit & ihide_source cell - check metadata\n"
     ]
    }
   ],
   "source": [
    "print(\"This is in an iinit & ihide_source cell - check metadata\")"
   ]
  },
  {
   "cell_type": "code",
   "execution_count": null,
   "id": "83e237ba-31d3-44d9-9efa-3fe80a9d50e9",
   "metadata": {},
   "outputs": [],
   "source": []
  },
  {
   "cell_type": "code",
   "execution_count": 19,
   "id": "938e1e86-871d-4e24-b4e8-3c99a81dc4a6",
   "metadata": {
    "ihide_output": true,
    "iinit": true
   },
   "outputs": [],
   "source": [
    "print(\"This is in an iinit & ihide_output cell - check metadata\")"
   ]
  },
  {
   "cell_type": "code",
   "execution_count": null,
   "id": "8a76ec6f-87ef-4d33-8778-601d38ab12bc",
   "metadata": {},
   "outputs": [],
   "source": []
  },
  {
   "cell_type": "code",
   "execution_count": null,
   "id": "504bc94e-f7cd-4f69-bf5c-dec93f1ddb8b",
   "metadata": {},
   "outputs": [],
   "source": []
  },
  {
   "cell_type": "code",
   "execution_count": null,
   "id": "a6cd0c4f-142f-4ed1-b951-40f4c91d08fc",
   "metadata": {},
   "outputs": [],
   "source": []
  }
 ],
 "metadata": {
  "iinit": true,
  "kernelspec": {
   "display_name": "Python 3 (ipykernel)",
   "language": "python",
   "name": "python3"
  },
  "language_info": {
   "codemirror_mode": {
    "name": "ipython",
    "version": 3
   },
   "file_extension": ".py",
   "mimetype": "text/x-python",
   "name": "python",
   "nbconvert_exporter": "python",
   "pygments_lexer": "ipython3",
   "version": "3.12.2"
  }
 },
 "nbformat": 4,
 "nbformat_minor": 5
}
